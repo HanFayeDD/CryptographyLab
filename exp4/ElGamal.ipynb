{
 "cells": [
  {
   "cell_type": "markdown",
   "metadata": {},
   "source": [
    "## ElGamal"
   ]
  },
  {
   "cell_type": "code",
   "execution_count": 219,
   "metadata": {},
   "outputs": [],
   "source": [
    "import random\n",
    "from sympy import isprime\n",
    "import hashlib"
   ]
  },
  {
   "cell_type": "code",
   "execution_count": 220,
   "metadata": {},
   "outputs": [],
   "source": [
    "def quick_pow(m: int, e: int, n: int) -> int:\n",
    "    \"\"\"模运算下的快速幂\n",
    "    Args:\n",
    "        m (int): _description_  底数\n",
    "        e (int): _description_  指数\n",
    "        n (int): _description_  模数\n",
    "    Returns:\n",
    "        int: _description_ 计算结果\n",
    "    \"\"\"\n",
    "    ans = 1\n",
    "    while e:\n",
    "        if e & 1:  # 是奇数\n",
    "            ans = ans * m % n\n",
    "        m = (m * m) % n  # 底数平方\n",
    "        e >>= 1  # 指数右移 /2\n",
    "    return ans\n"
   ]
  },
  {
   "cell_type": "code",
   "execution_count": 221,
   "metadata": {},
   "outputs": [],
   "source": [
    "def MR_isprime(num: int) -> bool:\n",
    "    \"\"\"\n",
    "    利用Miller-Rabin算法实现素数检测\n",
    "    Params:\n",
    "        num (int): 待检测的数\n",
    "    Returns:\n",
    "        bool: 是否为素数\n",
    "    \"\"\"\n",
    "    # 节约部分时间\n",
    "    if num % 2 == 0 and num != 2:\n",
    "        return False\n",
    "    num1 = num - 1\n",
    "    powof2 = 2\n",
    "    k = 1\n",
    "    while True:\n",
    "        if num1 % powof2 == 0:\n",
    "            q = num1//powof2\n",
    "            if q % 2 == 1:\n",
    "                break\n",
    "        if powof2 > num1:\n",
    "            return False\n",
    "        powof2 *= 2\n",
    "        k += 1\n",
    "    a = random.randint(1+1, num1-1)\n",
    "    if quick_pow(a, q, num) in (1, num-1):     \n",
    "        return True\n",
    "    for j in range(1, k, 1):\n",
    "        if  quick_pow(a, (2**j)*q, num) == num-1:\n",
    "            return True\n",
    "    return False"
   ]
  },
  {
   "cell_type": "code",
   "execution_count": 222,
   "metadata": {},
   "outputs": [],
   "source": [
    "def get_prime_p(min_num:int=2*15, max_num:int=2**16-1)->int:\n",
    "    \"\"\"_summary_\n",
    "    产生大素数p\n",
    "    Args:\n",
    "        min_num (int, optional): _description_. Defaults to 2**128.\n",
    "        max_num (int, optional): _description_. Defaults to 2**129-1.\n",
    "\n",
    "    Raises:\n",
    "        Exception: _description_\n",
    "\n",
    "    Returns:\n",
    "        int: _description_ 返回的p 和 g\n",
    "    \"\"\"\n",
    "    p = random.randint(min_num, max_num)\n",
    "    while True:\n",
    "        if MR_isprime(p):\n",
    "            break\n",
    "        p += 1\n",
    "    if not isprime(p):\n",
    "        raise Exception('p is not prime')\n",
    "    return p"
   ]
  },
  {
   "cell_type": "code",
   "execution_count": 223,
   "metadata": {},
   "outputs": [],
   "source": [
    "def check_arrequal(std, real):\n",
    "    if len(std) != len(real):\n",
    "        raise Exception('长度不一致')\n",
    "    for i in range(len(std)):\n",
    "        if std[i] != real[i]:\n",
    "            return False\n",
    "    return True\n",
    "    \n",
    "\n",
    "def find_primitive_root_g(p:int):\n",
    "    if not MR_isprime(p):\n",
    "        raise Exception('p is not prime')\n",
    "    \n",
    "    SEP = 20\n",
    "    rootls = []\n",
    "    std = list(range(1,p))\n",
    "    for i in range(2, p, p//SEP):\n",
    "        quick_pow_res = [quick_pow(i, j, p) for j in range(1, p)]\n",
    "        quick_pow_res.sort()\n",
    "        if check_arrequal(std, quick_pow_res):\n",
    "            rootls.append(i)\n",
    "    if len(rootls) == 0:\n",
    "        raise Exception('no primitive root found')\n",
    "    return random.choice(rootls)\n"
   ]
  },
  {
   "cell_type": "code",
   "execution_count": 224,
   "metadata": {},
   "outputs": [],
   "source": [
    "def get_xy(p:int, g:int)->tuple[list[int], int]:\n",
    "    \"\"\"_summary_\n",
    "    产生x和y，返回公钥私钥\n",
    "    Args:\n",
    "        p (int): _description_\n",
    "        g (int): _description_\n",
    "\n",
    "    Returns:\n",
    "        tuple[list[int], int]: _description_ 公钥和私钥\n",
    "    \"\"\"\n",
    "    x = random.randint(1+1, p-1-1)\n",
    "    y = quick_pow(g, x, p)\n",
    "    return [p, g, y], x"
   ]
  },
  {
   "cell_type": "code",
   "execution_count": 225,
   "metadata": {},
   "outputs": [],
   "source": [
    "\n",
    "def gcd_isprime(a: int, b: int) -> bool:\n",
    "    \"\"\"\n",
    "    欧几里得算法：判断两个数是否互素\n",
    "    Args:\n",
    "        a (iny): _description_ 数字1\n",
    "        b (int): _description_ 数字2\n",
    "    Returns:\n",
    "        bool: _description_ \n",
    "    \"\"\"\n",
    "    while a != 0 and b != 0:\n",
    "        a, b = b % a, a\n",
    "    if a == 0:\n",
    "        return b == 1\n",
    "    else:\n",
    "        return a == 1"
   ]
  },
  {
   "cell_type": "code",
   "execution_count": null,
   "metadata": {},
   "outputs": [],
   "source": [
    "def get_k(p:int)->int:\n",
    "    k = random.randint(1+1, p-1-1)\n",
    "    while True:\n",
    "        if gcd_isprime(k, p-1):\n",
    "            return k\n",
    "        k += 1\n",
    "        if k >= p-2:\n",
    "            k = random.randint(1+1, p-1-1)"
   ]
  },
  {
   "cell_type": "code",
   "execution_count": 227,
   "metadata": {},
   "outputs": [],
   "source": [
    "def get_sha256_hash(input_string):\n",
    "    # 创建一个SHA256哈希对象\n",
    "    sha256 = hashlib.sha256()\n",
    "    # 更新哈希对象以包含要散列的字符串的字节\n",
    "    sha256.update(input_string.encode('utf-8'))\n",
    "    # 返回十六进制的哈希值\n",
    "    return sha256.hexdigest()"
   ]
  },
  {
   "cell_type": "code",
   "execution_count": 228,
   "metadata": {},
   "outputs": [],
   "source": [
    "def extend_gcd(a: int, b: int) -> tuple:\n",
    "    \"\"\"\n",
    "    扩展欧几里得算法\n",
    "    Args:\n",
    "        a (int): _description_\n",
    "        b (int): _description_\n",
    "    Returns:\n",
    "        tuple: _description_\n",
    "    \"\"\"\n",
    "    if a == 0:\n",
    "        return (b, 0, 1)\n",
    "\n",
    "    gcd, x1, y1 = extend_gcd(b % a, a)\n",
    "\n",
    "    x = y1 - (b // a) * x1\n",
    "    y = x1\n",
    "    return (gcd, x, y)"
   ]
  },
  {
   "cell_type": "code",
   "execution_count": 229,
   "metadata": {},
   "outputs": [],
   "source": [
    "def get_d(e: int, fi: int) -> int:\n",
    "    \"\"\"\n",
    "    拓展欧几里得算法找到e在mod(fi(n))下的逆元\n",
    "    Args:\n",
    "        e  (int): _description_ \n",
    "        fi (int): _description_ 模数\n",
    "    Returns:\n",
    "        int: _description_ e在模fi下的乘法逆元\n",
    "    \"\"\"\n",
    "    if not gcd_isprime(e, fi):\n",
    "        raise Exception('e and fi(n) is not prime')\n",
    "    gcd, x, _ = extend_gcd(e, fi)\n",
    "    return x % fi"
   ]
  },
  {
   "cell_type": "code",
   "execution_count": null,
   "metadata": {},
   "outputs": [],
   "source": [
    "def sig(m:str, k:int, p:int, g:int, x:int)->tuple:\n",
    "    m_hash = get_sha256_hash(m)\n",
    "    r = quick_pow(g, k, p)\n",
    "    kni = get_d(k, p-1)\n",
    "    s = (((kni % (p-1))*(int(m_hash, 16) % (p-1)) % (p-1)) - \n",
    "         ((kni % (p-1))*(x*r             % (p-1)) % (p-1))) % (p-1)\n",
    "    return r, s"
   ]
  },
  {
   "cell_type": "code",
   "execution_count": 231,
   "metadata": {},
   "outputs": [],
   "source": [
    "def verify(m, r, s, p, y, g):\n",
    "    m_hash = get_sha256_hash(m)\n",
    "    res1 = (quick_pow(y, r, p)*quick_pow(r, s, p)) % p\n",
    "    res2 = quick_pow(g, int(m_hash, 16), p)\n",
    "    print(res1, res2)\n",
    "    return res1 == res2"
   ]
  },
  {
   "cell_type": "code",
   "execution_count": 232,
   "metadata": {},
   "outputs": [
    {
     "name": "stdout",
     "output_type": "stream",
     "text": [
      "素数p:16811，本原根g:5042\n"
     ]
    }
   ],
   "source": [
    "p = get_prime_p()\n",
    "g =find_primitive_root_g(p)\n",
    "print(f'素数p:{p}，本原根g:{g}')"
   ]
  },
  {
   "cell_type": "code",
   "execution_count": 233,
   "metadata": {},
   "outputs": [
    {
     "name": "stdout",
     "output_type": "stream",
     "text": [
      "公钥pk:\n",
      "p:16811, g:5042, y:6006\n",
      "私钥sk:10142\n"
     ]
    }
   ],
   "source": [
    "pk, sk = get_xy(p, g)\n",
    "print(\"公钥pk:\\np:{}, g:{}, y:{}\".format(*pk))\n",
    "print(\"私钥sk:{}\".format(sk))\n",
    "p, g, y = pk\n",
    "x = sk"
   ]
  },
  {
   "cell_type": "code",
   "execution_count": 234,
   "metadata": {},
   "outputs": [
    {
     "name": "stdout",
     "output_type": "stream",
     "text": [
      "k:3131\n"
     ]
    }
   ],
   "source": [
    "k = get_k(p)\n",
    "print(f\"k:{k}\")"
   ]
  },
  {
   "cell_type": "code",
   "execution_count": 235,
   "metadata": {},
   "outputs": [],
   "source": [
    "m = '220111011'"
   ]
  },
  {
   "cell_type": "code",
   "execution_count": 236,
   "metadata": {},
   "outputs": [],
   "source": [
    "r, s = sig(m, k, p, g, x)"
   ]
  },
  {
   "cell_type": "code",
   "execution_count": 237,
   "metadata": {},
   "outputs": [
    {
     "name": "stdout",
     "output_type": "stream",
     "text": [
      "14246 14246\n",
      "True\n"
     ]
    }
   ],
   "source": [
    "print(verify(m, r, s, p, y, g))"
   ]
  }
 ],
 "metadata": {
  "kernelspec": {
   "display_name": "Python 3",
   "language": "python",
   "name": "python3"
  },
  "language_info": {
   "codemirror_mode": {
    "name": "ipython",
    "version": 3
   },
   "file_extension": ".py",
   "mimetype": "text/x-python",
   "name": "python",
   "nbconvert_exporter": "python",
   "pygments_lexer": "ipython3",
   "version": "3.11.9"
  }
 },
 "nbformat": 4,
 "nbformat_minor": 2
}
