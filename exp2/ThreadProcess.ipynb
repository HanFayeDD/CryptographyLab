{
 "cells": [
  {
   "cell_type": "code",
   "execution_count": 1,
   "metadata": {},
   "outputs": [],
   "source": [
    "import threading\n",
    "import time"
   ]
  },
  {
   "cell_type": "code",
   "execution_count": 2,
   "metadata": {},
   "outputs": [],
   "source": [
    "def funct1(num):\n",
    "    cnt = 0\n",
    "    while cnt < num:\n",
    "        cnt += 1\n",
    "    return"
   ]
  },
  {
   "cell_type": "code",
   "execution_count": 3,
   "metadata": {},
   "outputs": [
    {
     "name": "stdout",
     "output_type": "stream",
     "text": [
      "10.045037984848022\n"
     ]
    }
   ],
   "source": [
    "t1 = threading.Thread(target=funct1, args=(100000000,))\n",
    "t2 = threading.Thread(target=funct1, args=(100000000,))\n",
    "begin = time.time()\n",
    "t1.start()\n",
    "t2.start()\n",
    "t1.join()\n",
    "t2.join()\n",
    "print(time.time() - begin)"
   ]
  },
  {
   "cell_type": "code",
   "execution_count": 4,
   "metadata": {},
   "outputs": [
    {
     "name": "stdout",
     "output_type": "stream",
     "text": [
      "10.555207967758179\n"
     ]
    }
   ],
   "source": [
    "begin = time.time()\n",
    "funct1(100000000*2)\n",
    "print(time.time() - begin)"
   ]
  },
  {
   "cell_type": "code",
   "execution_count": 5,
   "metadata": {},
   "outputs": [],
   "source": [
    "import multiprocessing"
   ]
  },
  {
   "cell_type": "code",
   "execution_count": 11,
   "metadata": {},
   "outputs": [
    {
     "name": "stdout",
     "output_type": "stream",
     "text": [
      "0.22876381874084473\n"
     ]
    }
   ],
   "source": [
    "begin = time.time()\n",
    "p1 = multiprocessing.Process(target=funct1, args=(100000000,))\n",
    "p2 = multiprocessing.Process(target=funct1, args=(100000000,))\n",
    "p1.start()\n",
    "p2.start()\n",
    "p1.join()\n",
    "p2.join()\n",
    "print(time.time() - begin)"
   ]
  },
  {
   "cell_type": "code",
   "execution_count": 7,
   "metadata": {},
   "outputs": [],
   "source": [
    "from concurrent import futures"
   ]
  },
  {
   "cell_type": "code",
   "execution_count": 8,
   "metadata": {},
   "outputs": [
    {
     "name": "stdout",
     "output_type": "stream",
     "text": [
      "10.618507385253906\n"
     ]
    }
   ],
   "source": [
    "with futures.ThreadPoolExecutor() as executor:\n",
    "    todo = []\n",
    "    l1 = executor.submit(funct1, 100000000)\n",
    "    l2 = executor.submit(funct1, 100000000)\n",
    "    todo.append(l1)\n",
    "    todo.append(l2)\n",
    "    begin = time.time()\n",
    "    for ele in futures.as_completed(todo):\n",
    "        pass\n",
    "    print(time.time() - begin)\n",
    "        "
   ]
  },
  {
   "cell_type": "code",
   "execution_count": 12,
   "metadata": {},
   "outputs": [
    {
     "name": "stdout",
     "output_type": "stream",
     "text": [
      "0.26267218589782715\n"
     ]
    },
    {
     "name": "stderr",
     "output_type": "stream",
     "text": [
      "Traceback (most recent call last):\n",
      "  File \"C:\\Program Files\\WindowsApps\\PythonSoftwareFoundation.Python.3.11_3.11.2544.0_x64__qbz5n2kfra8p0\\Lib\\multiprocessing\\queues.py\", line 246, in _feed\n",
      "    send_bytes(obj)\n",
      "  File \"C:\\Program Files\\WindowsApps\\PythonSoftwareFoundation.Python.3.11_3.11.2544.0_x64__qbz5n2kfra8p0\\Lib\\multiprocessing\\connection.py\", line 184, in send_bytes\n",
      "    self._check_closed()\n",
      "  File \"C:\\Program Files\\WindowsApps\\PythonSoftwareFoundation.Python.3.11_3.11.2544.0_x64__qbz5n2kfra8p0\\Lib\\multiprocessing\\connection.py\", line 137, in _check_closed\n",
      "    raise OSError(\"handle is closed\")\n",
      "OSError: handle is closed\n"
     ]
    }
   ],
   "source": [
    "begin = time.time()\n",
    "with futures.ProcessPoolExecutor() as executor:\n",
    "    todo = []\n",
    "    l1 = executor.submit(funct1, 100000000)\n",
    "    l2 = executor.submit(funct1, 100000000)\n",
    "    todo.append(l1)\n",
    "    todo.append(l2)\n",
    "    for ele in futures.as_completed(todo):\n",
    "        continue\n",
    "print(time.time() - begin)"
   ]
  }
 ],
 "metadata": {
  "kernelspec": {
   "display_name": "Python 3",
   "language": "python",
   "name": "python3"
  },
  "language_info": {
   "codemirror_mode": {
    "name": "ipython",
    "version": 3
   },
   "file_extension": ".py",
   "mimetype": "text/x-python",
   "name": "python",
   "nbconvert_exporter": "python",
   "pygments_lexer": "ipython3",
   "version": "3.11.9"
  }
 },
 "nbformat": 4,
 "nbformat_minor": 2
}
